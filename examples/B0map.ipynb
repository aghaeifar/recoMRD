{
 "cells": [
  {
   "cell_type": "code",
   "execution_count": 1,
   "id": "638591f4",
   "metadata": {},
   "outputs": [
    {
     "name": "stdout",
     "output_type": "stream",
     "text": [
      "Number of reference scans: 0\n",
      "Number of image     scans: 17600\n",
      "k-space size in protocol: 220 x 110 x 80\n",
      "image   size in protocol: 110 x 110 x 80\n",
      "Existing scans: image_scan.\n",
      "Fully sampled array size=[32, 220, 110, 80, 1, 2, 1, 1, 1, 1, 1]\n"
     ]
    },
    {
     "name": "stderr",
     "output_type": "stream",
     "text": [
      "Filling image_scan, size=[32, 216, 110, 80, 1, 2, 1, 1, 1, 1, 1]: 100%|██████████| 17600/17600 [00:05<00:00, 3307.37it/s]\n",
      "Fourier transform: 100%|██████████| 32/32 [00:13<00:00,  2.35it/s]\n"
     ]
    },
    {
     "name": "stdout",
     "output_type": "stream",
     "text": [
      "Remove oversampling... Done.\n",
      "Calculating B0 map. dTE = 3.5 ms\n",
      "(32, 110, 110, 80, 1, 2, 1, 1, 1, 1, 1)\n",
      "(1, 110, 110, 80, 1, 1, 1, 1, 1, 1, 1)\n",
      "(1, 110, 110, 80, 1, 1, 1, 1, 1, 1, 1)\n",
      "(1, 110, 110, 80, 1, 1, 1, 1, 1, 1, 1)\n"
     ]
    }
   ],
   "source": [
    "import numpy as np \n",
    "from recoMRD import recoMRD_B0\n",
    "import matplotlib.pyplot as plt\n",
    "from bart import bart\n",
    "import os\n",
    "\n",
    "filename = './../example_data/meas_MID00575_FID29449_aa_B0Phantom.mrd'\n",
    "mrd = recoMRD_B0(filename)\n",
    "print(mrd.img.shape)\n",
    "print(mrd.img_b0.shape)\n",
    "print(mrd.img_mag.shape)\n",
    "print(mrd.img_mask.shape)"
   ]
  },
  {
   "cell_type": "code",
   "execution_count": 2,
   "id": "5d7bc5d2",
   "metadata": {},
   "outputs": [
    {
     "name": "stdout",
     "output_type": "stream",
     "text": [
      "Unwrapping B0...\n",
      "[1, 110, 110, 80, 1, 1, 1, 1, 1, 1, 1]\n",
      "(1, 110, 110, 80, 1, 1, 1, 1, 1, 1, 1)\n",
      "(1, 110, 110, 80, 1, 1, 1, 1, 1, 1, 1)\n"
     ]
    }
   ],
   "source": [
    "b0_uw = mrd.unwrap_b0()\n",
    "b0_hz = mrd.get_b0hz(b0_uw, 0)\n",
    "\n",
    "print(mrd.dim_size)\n",
    "print(b0_uw.shape)\n",
    "\n",
    "folder = './../example_data'\n",
    "mrd.make_nifti(mrd.img_b0, os.path.join(folder, 'b0.nii'))\n",
    "mrd.make_nifti(b0_uw, os.path.join(folder, 'b0_uw.nii'))\n",
    "mrd.make_nifti(b0_hz, os.path.join(folder, 'b0_hz.nii'))"
   ]
  },
  {
   "cell_type": "code",
   "execution_count": null,
   "id": "6d465b02",
   "metadata": {},
   "outputs": [],
   "source": []
  }
 ],
 "metadata": {
  "kernelspec": {
   "display_name": "Python 3.10.6 64-bit",
   "language": "python",
   "name": "python3"
  },
  "language_info": {
   "codemirror_mode": {
    "name": "ipython",
    "version": 3
   },
   "file_extension": ".py",
   "mimetype": "text/x-python",
   "name": "python",
   "nbconvert_exporter": "python",
   "pygments_lexer": "ipython3",
   "version": "3.10.6"
  },
  "vscode": {
   "interpreter": {
    "hash": "e7370f93d1d0cde622a1f8e1c04877d8463912d04d973331ad4851f04de6915a"
   }
  }
 },
 "nbformat": 4,
 "nbformat_minor": 5
}
